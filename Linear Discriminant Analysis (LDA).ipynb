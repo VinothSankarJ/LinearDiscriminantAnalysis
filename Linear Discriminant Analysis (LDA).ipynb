{
 "cells": [
  {
   "cell_type": "code",
   "execution_count": 1,
   "id": "b2ef0a7f",
   "metadata": {},
   "outputs": [],
   "source": [
    "import pandas as pd\n",
    "from sklearn.datasets import load_wine\n",
    "from sklearn.model_selection import train_test_split\n",
    "from sklearn.discriminant_analysis import LinearDiscriminantAnalysis\n",
    "from sklearn.metrics import accuracy_score"
   ]
  },
  {
   "cell_type": "code",
   "execution_count": 2,
   "id": "048c84cf",
   "metadata": {},
   "outputs": [],
   "source": [
    "wine = load_wine()\n",
    "X = pd.DataFrame(wine.data, columns=wine.feature_names)\n",
    "y = wine.target"
   ]
  },
  {
   "cell_type": "code",
   "execution_count": 3,
   "id": "cd967b63",
   "metadata": {},
   "outputs": [],
   "source": [
    "X_train, X_test, y_train, y_test = train_test_split(X, y, test_size=0.2, random_state=42)\n"
   ]
  },
  {
   "cell_type": "code",
   "execution_count": 7,
   "id": "85fdfa0d",
   "metadata": {},
   "outputs": [],
   "source": [
    "n_components_list = [1, 2]\n"
   ]
  },
  {
   "cell_type": "code",
   "execution_count": 8,
   "id": "08fc1209",
   "metadata": {},
   "outputs": [],
   "source": [
    "accuracy_scores = {}"
   ]
  },
  {
   "cell_type": "code",
   "execution_count": 9,
   "id": "a86a5ca8",
   "metadata": {},
   "outputs": [],
   "source": [
    "for n_components in n_components_list:\n",
    "    lda = LinearDiscriminantAnalysis(n_components=n_components)\n",
    "    lda.fit(X_train, y_train)\n",
    "    y_pred = lda.predict(X_test)\n",
    "    accuracy = accuracy_score(y_test, y_pred)\n",
    "    accuracy_scores[n_components] = accuracy"
   ]
  },
  {
   "cell_type": "code",
   "execution_count": 10,
   "id": "5f9a3472",
   "metadata": {},
   "outputs": [
    {
     "name": "stdout",
     "output_type": "stream",
     "text": [
      "LDA Accuracy Scores:\n",
      "-------------------------\n",
      "| Components | Accuracy |\n",
      "-------------------------\n",
      "|     1      |  1.0000  |\n",
      "|     2      |  1.0000  |\n",
      "-------------------------\n"
     ]
    }
   ],
   "source": [
    "print(\"LDA Accuracy Scores:\")\n",
    "print(\"-\" * 25)\n",
    "print(\"| Components | Accuracy |\")\n",
    "print(\"-\" * 25)\n",
    "for n_components, accuracy in accuracy_scores.items():\n",
    "    print(f\"| {n_components:^10} | {accuracy:^8.4f} |\")\n",
    "print(\"-\" * 25)"
   ]
  },
  {
   "cell_type": "code",
   "execution_count": null,
   "id": "a30729d7",
   "metadata": {},
   "outputs": [],
   "source": []
  }
 ],
 "metadata": {
  "kernelspec": {
   "display_name": "Python 3 (ipykernel)",
   "language": "python",
   "name": "python3"
  },
  "language_info": {
   "codemirror_mode": {
    "name": "ipython",
    "version": 3
   },
   "file_extension": ".py",
   "mimetype": "text/x-python",
   "name": "python",
   "nbconvert_exporter": "python",
   "pygments_lexer": "ipython3",
   "version": "3.7.6"
  }
 },
 "nbformat": 4,
 "nbformat_minor": 5
}
